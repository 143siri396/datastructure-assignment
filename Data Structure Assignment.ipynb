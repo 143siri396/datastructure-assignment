{
 "cells": [
  {
   "cell_type": "code",
   "execution_count": 2,
   "id": "4d3d352c",
   "metadata": {},
   "outputs": [
    {
     "name": "stdout",
     "output_type": "stream",
     "text": [
      "[10, 20, 30, 'apple', True, 8, 10]\n",
      "[10, 20, 30, 'apple', True, 8, 10, 30, 40]\n",
      "[40, 30, 10, 8, True, 'apple', 30, 20, 10]\n"
     ]
    }
   ],
   "source": [
    "#creating a list\n",
    "mylist=[10,20,30,'apple',True,8,10]\n",
    "print(mylist)\n",
    "mylist.append(30)\n",
    "mylist.append(40)\n",
    "print(mylist)\n",
    "#reversing the list\n",
    "print(mylist[::-1])"
   ]
  },
  {
   "cell_type": "code",
   "execution_count": 17,
   "id": "edeaca52",
   "metadata": {},
   "outputs": [
    {
     "name": "stdout",
     "output_type": "stream",
     "text": [
      "{1: 'data', 2: 'information', 3: 'text'}\n",
      "{1: 'data', 2: 'information'}\n",
      "{1: 'data', 2: 'information', 4: 'features'}\n",
      "data\n",
      "data\n"
     ]
    }
   ],
   "source": [
    "#creating dictionary\n",
    "dict={1:'data',2:'information',3:'text'}\n",
    "print(dict)\n",
    "#removing the text\n",
    "dict.pop(3)\n",
    "print(dict)\n",
    "#adding features\n",
    "dict[4]='features'\n",
    "print(dict)\n",
    "#fetch the data element\n",
    "print(dict[1])\n",
    "print(dict.get(1))"
   ]
  },
  {
   "cell_type": "code",
   "execution_count": 26,
   "id": "b4ad65f5",
   "metadata": {},
   "outputs": [
    {
     "name": "stdout",
     "output_type": "stream",
     "text": [
      "(1, 2, 3, 'apple', 'mango')\n",
      "50\n",
      "(1, 2, 3, 'apple', 'mango', 10, 20, 30, 40, 50)\n",
      "(1, 2, 3, 'apple', 'mango', 1, 2, 3, 'apple', 'mango')\n"
     ]
    }
   ],
   "source": [
    "#creting the tuple\n",
    "my_tuple=(1,2,3,'apple','mango')\n",
    "print(my_tuple)\n",
    "#creating another tuple\n",
    "numeric_tuple=(10,20,30,40,50)\n",
    "maximum=max(numeric_tuple)\n",
    "print(maximum)\n",
    "r1=my_tuple+numeric_tuple\n",
    "print(r1)\n",
    "newdupli=my_tuple*2\n",
    "print(newdupli)"
   ]
  },
  {
   "cell_type": "code",
   "execution_count": 31,
   "id": "87994520",
   "metadata": {},
   "outputs": [
    {
     "name": "stdout",
     "output_type": "stream",
     "text": [
      "{1, 2, 3, 4, 5, 6, 7}\n",
      "{1, 2, 3}\n",
      "{4, 5}\n"
     ]
    }
   ],
   "source": [
    "#creating sets\n",
    "set1={1,2,3,4,5}\n",
    "set2={2,3,7,6,1}\n",
    "union_1=set1.union(set2)\n",
    "print(union_1)\n",
    "intersect=set1.intersection(set2)\n",
    "print(intersect)\n",
    "diff=set1.difference(set2)\n",
    "print(diff)"
   ]
  }
 ],
 "metadata": {
  "kernelspec": {
   "display_name": "Python 3 (ipykernel)",
   "language": "python",
   "name": "python3"
  },
  "language_info": {
   "codemirror_mode": {
    "name": "ipython",
    "version": 3
   },
   "file_extension": ".py",
   "mimetype": "text/x-python",
   "name": "python",
   "nbconvert_exporter": "python",
   "pygments_lexer": "ipython3",
   "version": "3.11.5"
  }
 },
 "nbformat": 4,
 "nbformat_minor": 5
}
